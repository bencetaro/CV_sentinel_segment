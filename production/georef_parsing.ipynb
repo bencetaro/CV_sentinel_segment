{
 "cells": [
  {
   "cell_type": "markdown",
   "id": "305f7b7a",
   "metadata": {},
   "source": [
    "# Processing raster calculations (georeference parsing) "
   ]
  },
  {
   "cell_type": "code",
   "execution_count": 8,
   "id": "b8987cfa",
   "metadata": {},
   "outputs": [],
   "source": [
    "from glob import glob\n",
    "from osgeo import gdal\n",
    "from osgeo import gdal_array\n",
    "from osgeo import osr\n",
    "import numpy as np\n",
    "import matplotlib.pyplot as plt"
   ]
  },
  {
   "cell_type": "markdown",
   "id": "8812532e",
   "metadata": {},
   "source": [
    "The function below is useful to parse the TCI's projection and spatial extent information to the final product of our prediction process."
   ]
  },
  {
   "cell_type": "code",
   "execution_count": 11,
   "id": "c87153ac",
   "metadata": {},
   "outputs": [],
   "source": [
    "\n",
    "def georef_parsing(pred_layer, TCI_layer, output_fn, dtype):    \n",
    "    # pred read\n",
    "    preddataset = gdal.Open(pred_layer)\n",
    "    predband1 = preddataset.GetRasterBand(1).ReadAsArray()\n",
    "    predband2 = preddataset.GetRasterBand(2).ReadAsArray()\n",
    "    predband3 = preddataset.GetRasterBand(3).ReadAsArray()\n",
    "    p_image = np.dstack((predband1, predband2, predband3))\n",
    "    # TCI read\n",
    "    TCIdataset = gdal.Open(TCI_layer)\n",
    "    \n",
    "    # set data type to save.\n",
    "    GDT_dtype = gdal.GDT_Unknown\n",
    "    if dtype == \"Byte\": \n",
    "        GDT_dtype = gdal.GDT_Byte\n",
    "    elif dtype == \"Float32\":\n",
    "        GDT_dtype = gdal.GDT_Float32\n",
    "    else:\n",
    "        print(\"Not supported data type.\")\n",
    "\n",
    "    # create output\n",
    "    driver = gdal.GetDriverByName('GTiff')\n",
    "    cols = p_image.shape[0]\n",
    "    rows = p_image.shape[1]\n",
    "    band_num = p_image.shape[2]\n",
    "    outRaster = driver.Create(output_fn, cols, rows, band_num, GDT_dtype)\n",
    "    \n",
    "    # Set spatial extent of TCI's to the output\n",
    "    originX, pixelWidth, b, originY, d, pixelHeight = TCIdataset.GetGeoTransform() \n",
    "    outRaster.SetGeoTransform((originX, pixelWidth, 0, originY, 0, pixelHeight))\n",
    "\n",
    "    # Loop over all bands, write calculated array to output file\n",
    "    for b in range(band_num):\n",
    "        outband = outRaster.GetRasterBand(b + 1)\n",
    "        outband.WriteArray(p_image[:,:,b])\n",
    "    \n",
    "    # setteing projection from TCI\n",
    "    prj=TCIdataset.GetProjection()\n",
    "    outRasterSRS = osr.SpatialReference(wkt=prj)\n",
    "    outRaster.SetProjection(outRasterSRS.ExportToWkt())\n",
    "    outband.FlushCache()\n",
    "    \n"
   ]
  },
  {
   "cell_type": "code",
   "execution_count": 13,
   "id": "7e1e19d4",
   "metadata": {},
   "outputs": [],
   "source": [
    "tci_tiffben = 'some_path.../sentinel/T34TGS_20220513T092031_TCI_10m_tiffben.tif'\n",
    "pred_prod = 'some_path.../sentinel_concat.jpg'\n",
    "\n",
    "georef_parsing(pred_prod, tci_tiffben, 'sentinel_concat_georeftry.tif',\"Byte\")"
   ]
  },
  {
   "cell_type": "code",
   "execution_count": null,
   "id": "0d0bf9ec",
   "metadata": {},
   "outputs": [],
   "source": [
    "# For multiple files\n",
    "# THIS NEEDS TO BE EDITED FOR THIS PROJECT, I USED IT FOR ANOTHER ONE...\n",
    "\n",
    "all_mask = glob('some_path.../' + '*binary.tif')\n",
    "all_TCI = glob('some_path.../' + '*.jp2')\n",
    "names = [os.path.basename(x)[:6] for x in all_TCI]\n",
    "\n",
    "for i in range(len(all_mask)):\n",
    "    outname = 'TCI_masked_' + f'{names[i]}.tif'\n",
    "    masking_process(all_mask[i], all_TCI[i], outname, \"Byte\")\n",
    "\n",
    "print('Done')"
   ]
  },
  {
   "cell_type": "code",
   "execution_count": null,
   "id": "da53d704",
   "metadata": {},
   "outputs": [],
   "source": []
  },
  {
   "cell_type": "code",
   "execution_count": null,
   "id": "668dc7fb",
   "metadata": {},
   "outputs": [],
   "source": []
  },
  {
   "cell_type": "code",
   "execution_count": null,
   "id": "0f423e7a",
   "metadata": {},
   "outputs": [],
   "source": []
  }
 ],
 "metadata": {
  "kernelspec": {
   "display_name": "Python 3 (ipykernel)",
   "language": "python",
   "name": "python3"
  },
  "language_info": {
   "codemirror_mode": {
    "name": "ipython",
    "version": 3
   },
   "file_extension": ".py",
   "mimetype": "text/x-python",
   "name": "python",
   "nbconvert_exporter": "python",
   "pygments_lexer": "ipython3",
   "version": "3.9.7"
  }
 },
 "nbformat": 4,
 "nbformat_minor": 5
}
